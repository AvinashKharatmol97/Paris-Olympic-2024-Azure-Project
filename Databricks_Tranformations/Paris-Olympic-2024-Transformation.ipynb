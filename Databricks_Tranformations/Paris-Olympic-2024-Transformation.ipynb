{
 "cells": [
  {
   "cell_type": "code",
   "execution_count": 0,
   "metadata": {
    "application/vnd.databricks.v1+cell": {
     "cellMetadata": {
      "byteLimit": 2048000,
      "rowLimit": 10000
     },
     "inputWidgets": {},
     "nuid": "5a3b6e1f-700d-4696-876e-d6401f5b206d",
     "showTitle": false,
     "title": ""
    }
   },
   "outputs": [],
   "source": [
    "from pyspark.sql.functions import *\n",
    "from pyspark.sql.types import IntegerType, DoubleType, BooleanType, DateType"
   ]
  },
  {
   "cell_type": "code",
   "execution_count": 0,
   "metadata": {
    "application/vnd.databricks.v1+cell": {
     "cellMetadata": {
      "byteLimit": 2048000,
      "rowLimit": 10000
     },
     "inputWidgets": {},
     "nuid": "5bebf934-5f39-4540-9e24-dce5b6081341",
     "showTitle": false,
     "title": ""
    }
   },
   "outputs": [],
   "source": [
    "configs = {\"fs.azure.account.auth.type\": \"OAuth\",\n",
    "\"fs.azure.account.oauth.provider.type\": \"org.apache.hadoop.fs.azurebfs.oauth2.ClientCredsTokenProvider\",\n",
    "\"fs.azure.account.oauth2.client.id\": \"\",\n",
    "\"fs.azure.account.oauth2.client.secret\": '',\n",
    "\"fs.azure.account.oauth2.client.endpoint\": \"https://login.microsoftonline.com/tenant_id/oauth2/token\"}\n",
    "\n",
    "\n",
    "dbutils.fs.mount(\n",
    "source = \"abfss://paris-olypic-2024-data@parisolympic2024avi.dfs.core.windows.net\",\n",
    "mount_point = \"/mnt/paris_olympic\",\n",
    "extra_configs = configs)\n",
    "  "
   ]
  },
  {
   "cell_type": "code",
   "execution_count": 0,
   "metadata": {
    "application/vnd.databricks.v1+cell": {
     "cellMetadata": {
      "byteLimit": 2048000,
      "rowLimit": 10000
     },
     "inputWidgets": {},
     "nuid": "c133c2e2-f3b4-488d-9085-dc49d47bd1eb",
     "showTitle": false,
     "title": ""
    }
   },
   "outputs": [],
   "source": [
    "%fs\n",
    "ls \"mnt/paris_olympic\""
   ]
  },
  {
   "cell_type": "code",
   "execution_count": 0,
   "metadata": {
    "application/vnd.databricks.v1+cell": {
     "cellMetadata": {
      "byteLimit": 2048000,
      "rowLimit": 10000
     },
     "inputWidgets": {},
     "nuid": "ddd99426-e2f8-4006-9920-9a9b43c60b67",
     "showTitle": false,
     "title": ""
    }
   },
   "outputs": [],
   "source": [
    "spark"
   ]
  },
  {
   "cell_type": "code",
   "execution_count": 0,
   "metadata": {
    "application/vnd.databricks.v1+cell": {
     "cellMetadata": {
      "byteLimit": 2048000,
      "rowLimit": 10000
     },
     "inputWidgets": {},
     "nuid": "cd42046b-762c-4c6f-9485-27a306c600e1",
     "showTitle": false,
     "title": ""
    }
   },
   "outputs": [],
   "source": [
    "athletes = spark.read.format(\"csv\").option(\"header\",\"true\").option(\"inferSchema\",\"true\").load(\"/mnt/paris_olympic/raw-data/athletes.csv\")\n",
    "venues = spark.read.format(\"csv\").option(\"header\",\"true\").option(\"inferSchema\",\"true\").load(\"/mnt/paris_olympic/raw-data/venues.csv\")\n",
    "teams = spark.read.format(\"csv\").option(\"header\",\"true\").option(\"inferSchema\",\"true\").load(\"/mnt/paris_olympic/raw-data/teams.csv\")\n",
    "medalists = spark.read.format(\"csv\").option(\"header\",\"true\").option(\"inferSchema\",\"true\").load(\"/mnt/paris_olympic/raw-data/medalists.csv\")"
   ]
  },
  {
   "cell_type": "code",
   "execution_count": 0,
   "metadata": {
    "application/vnd.databricks.v1+cell": {
     "cellMetadata": {
      "byteLimit": 2048000,
      "rowLimit": 10000
     },
     "inputWidgets": {},
     "nuid": "1a86f4c0-1556-422b-8f0d-6c430ab68f09",
     "showTitle": false,
     "title": ""
    }
   },
   "outputs": [
    {
     "output_type": "stream",
     "name": "stdout",
     "output_type": "stream",
     "text": [
      "+--------------------+------+--------+-----------------+----------+\n|                name|gender| country|            sport|birth_date|\n+--------------------+------+--------+-----------------+----------+\n|    ALEKSANYAN Artur|  Male| Armenia|        Wrestling|1991-10-21|\n|      AMOYAN Malkhas|  Male| Armenia|        Wrestling|1999-01-22|\n|     GALSTYAN Slavik|  Male| Armenia|        Wrestling|1996-12-21|\n|   HARUTYUNYAN Arsen|  Male| Armenia|        Wrestling|1999-11-22|\n|     TEVANYAN Vazgen|  Male| Armenia|        Wrestling|1999-10-27|\n|       ARENAS Lorena|Female|Colombia|        Athletics|      NULL|\n|     McKENZIE Ashley|  Male| Jamaica|             Judo|1989-07-17|\n|BASS BITTAYE Gina...|Female|  Gambia|        Athletics|      NULL|\n|     CAMARA Ebrahima|  Male|  Gambia|        Athletics|1996-09-18|\n| RUEDA SANTOS Lizeth|Female|  Mexico|        Triathlon|1994-03-07|\n|TAPIA VIDAL Rosa ...|Female|  Mexico|        Triathlon|1997-08-27|\n|   GRAJALES Crisanto|  Male|  Mexico|        Triathlon|1987-05-06|\n|    MAAROUFOU Hachim|  Male| Comoros|        Athletics|1997-02-13|\n|        SAADI Maesha|Female| Comoros|         Swimming|2007-01-16|\n|      DIOSDADO Nuria|Female|  Mexico|Artistic Swimming|1990-08-22|\n|       JIMENEZ Joana|Female|  Mexico|Artistic Swimming|1993-08-19|\n|     SOBRINO Jessica|Female|  Mexico|Artistic Swimming|1994-05-26|\n|      ALFEREZ Regina|Female|  Mexico|Artistic Swimming|1997-12-01|\n|   ARELLANO Fernanda|Female|  Mexico|Artistic Swimming|2002-02-28|\n|      TOSCANO Pamela|Female|  Mexico|Artistic Swimming|2000-01-13|\n+--------------------+------+--------+-----------------+----------+\nonly showing top 20 rows\n\n"
     ]
    }
   ],
   "source": [
    "df_athletes = athletes.select('name','gender','country',col('disciplines').alias('sport'),'birth_date')\n",
    "df_athletes = df_athletes.withColumn('birth_date', to_date(col('birth_date')))\n",
    "df_athletes = df_athletes.withColumn('sport', translate(col('sport'),\"[']\",''))\n",
    "df_athletes.show()"
   ]
  },
  {
   "cell_type": "code",
   "execution_count": 0,
   "metadata": {
    "application/vnd.databricks.v1+cell": {
     "cellMetadata": {
      "byteLimit": 2048000,
      "rowLimit": 10000
     },
     "inputWidgets": {},
     "nuid": "6b5ebb84-85af-417f-841d-a15fc9c0981a",
     "showTitle": false,
     "title": ""
    }
   },
   "outputs": [
    {
     "output_type": "stream",
     "name": "stdout",
     "output_type": "stream",
     "text": [
      "+--------------------+--------------------+\n|               venue|              sports|\n+--------------------+--------------------+\n|     Aquatics Centre|Artistic Swimming...|\n|         Bercy Arena|Artistic Gymnasti...|\n|    Bordeaux Stadium|            Football|\n| Champ de Mars Arena|     Judo, Wrestling|\n|Château de Versai...|Equestrian, Moder...|\n|Chateauroux Shoot...|            Shooting|\n|Eiffel Tower Stadium|    Beach Volleyball|\n|      Elancourt Hill|Cycling Mountain ...|\n|Geoffroy-Guichard...|            Football|\n|        Grand Palais|  Fencing, Taekwondo|\n|      Hôtel de Ville|           Athletics|\n|           Invalides|Archery, Athletic...|\n|La Beaujoire Stadium|            Football|\n|         La Concorde|3x3 Basketball, B...|\n|Le Bourget Sport ...|      Sport Climbing|\n|       Golf National|                Golf|\n|        Lyon Stadium|            Football|\n|    Marseille Marina|             Sailing|\n|   Marseille Stadium|            Football|\n|        Nice Stadium|            Football|\n+--------------------+--------------------+\nonly showing top 20 rows\n\n"
     ]
    }
   ],
   "source": [
    "df_venues = venues.select('venue','sports')\n",
    "df_venues = df_venues.withColumn('sports', translate(col('sports'),\"[']\",''))\n",
    "df_venues.show()"
   ]
  },
  {
   "cell_type": "code",
   "execution_count": 0,
   "metadata": {
    "application/vnd.databricks.v1+cell": {
     "cellMetadata": {
      "byteLimit": 2048000,
      "rowLimit": 10000
     },
     "inputWidgets": {},
     "nuid": "b34de0ab-09bf-42c8-b18e-ab373536bb1f",
     "showTitle": false,
     "title": ""
    }
   },
   "outputs": [
    {
     "output_type": "stream",
     "name": "stdout",
     "output_type": "stream",
     "text": [
      "+-------+-------------------+--------------------+--------------------+\n|country|              sport|               event|            athletes|\n+-------+-------------------+--------------------+--------------------+\n| Brazil|            Archery|          Mixed Team|SLIACHTICAS CAETA...|\n| Brazil|          Athletics|Men's 4 x 100m Relay|BARDI Felipe, CAM...|\n| Brazil|          Athletics|Men's 4 x 400m Relay|CARVALHO Lucas, H...|\n| Brazil|         Basketball|                 Men|SANTOS Yago, FELI...|\n| Brazil|         Equestrian|       Eventing Team|PARRO Carlos, MAM...|\n| Brazil|         Equestrian|        Jumping Team|PESSOA Rodrigo, d...|\n| Brazil|           Football|               Women|LORENA, ANTONIA, ...|\n| Brazil|Artistic Gymnastics|        Women's Team|ANDRADE Rebeca, B...|\n| Brazil|Rhythmic Gymnastics|    Group All-Around|ARAKAKI Maria Edu...|\n| Brazil|           Handball|               Women|MORESCHI Gabriela...|\n| Brazil|               Judo|          Mixed Team|PIMENTA Larissa, ...|\n| Brazil|       Rugby Sevens|               Women|NICOLAU Mariana, ...|\n| Brazil|           Swimming|Men's 4 x 100m Fr...|SANTOS Guilherme,...|\n| Brazil|           Swimming|Men's 4 x 200m Fr...|SETIN SARTORI Mur...|\n| Brazil|           Swimming|Women's 4 x 100m ...|VIEIRA Ana Caroli...|\n| Brazil|           Swimming|Women's 4 x 200m ...|COSTA Maria Ferna...|\n| Brazil|           Swimming|Mixed 4 x 100m Me...|BASSETO Guilherme...|\n| Brazil|           Swimming|                NULL|de OLIVEIRA da SI...|\n| Brazil|          Athletics|                NULL|DA SILVA Claudine...|\n| Brazil|          Athletics|                NULL|COUTINHO Geisa Ap...|\n+-------+-------------------+--------------------+--------------------+\nonly showing top 20 rows\n\n"
     ]
    }
   ],
   "source": [
    "df_teams = teams.select('team','discipline','events','athletes')\n",
    "df_teams = df_teams.withColumnRenamed('team','country')\n",
    "df_teams = df_teams.withColumnRenamed('discipline','sport')\n",
    "df_teams = df_teams.withColumnRenamed('events','event')\n",
    "df_teams = df_teams.withColumn('athletes', translate(col('athletes'),\"[\\\"']/\",''))\n",
    "df_teams.where(col('country') == 'Brazil').show()"
   ]
  },
  {
   "cell_type": "code",
   "execution_count": 0,
   "metadata": {
    "application/vnd.databricks.v1+cell": {
     "cellMetadata": {
      "byteLimit": 2048000,
      "rowLimit": 10000
     },
     "inputWidgets": {},
     "nuid": "748b33c6-55ed-45ff-a3ee-690c2691498a",
     "showTitle": false,
     "title": ""
    }
   },
   "outputs": [
    {
     "output_type": "stream",
     "name": "stdout",
     "output_type": "stream",
     "text": [
      "+--------------------+------+------------+--------+----------------+------------+--------------------+\n|             athlete|gender|       medal|position|         country|       sport|               event|\n+--------------------+------+------------+--------+----------------+------------+--------------------+\n|     EVENEPOEL Remco|  Male|  Gold Medal|       1|         Belgium|Cycling Road|Men's Individual ...|\n|       GANNA Filippo|  Male|Silver Medal|       2|           Italy|Cycling Road|Men's Individual ...|\n|       van AERT Wout|  Male|Bronze Medal|       3|         Belgium|Cycling Road|Men's Individual ...|\n|         BROWN Grace|Female|  Gold Medal|       1|       Australia|Cycling Road|Women's Individua...|\n|      HENDERSON Anna|Female|Silver Medal|       2|   Great Britain|Cycling Road|Women's Individua...|\n|        DYGERT Chloe|Female|Bronze Medal|       3|   United States|Cycling Road|Women's Individua...|\n|           OH Sanguk|  Male|  Gold Medal|       1|           Korea|     Fencing|Men's Sabre Indiv...|\n|       FERJANI Fares|  Male|Silver Medal|       2|         Tunisia|     Fencing|Men's Sabre Indiv...|\n|        SAMELE Luigi|  Male|Bronze Medal|       3|           Italy|     Fencing|Men's Sabre Indiv...|\n| KONG Man Wai Vivian|Female|  Gold Medal|       1|Hong Kong, China|     Fencing|Women's Épée Indi...|\n|MALLO-BRETON Auriane|Female|Silver Medal|       2|          France|     Fencing|Women's Épée Indi...|\n|       MUHARI Eszter|Female|Bronze Medal|       3|         Hungary|     Fencing|Women's Épée Indi...|\n|       SMETOV Yeldos|  Male|  Gold Medal|       1|      Kazakhstan|        Judo|          Men -60 kg|\n|       MKHEIDZE Luka|  Male|Silver Medal|       2|          France|        Judo|          Men -60 kg|\n|      NAGAYAMA Ryuju|  Male|Bronze Medal|       3|           Japan|        Judo|          Men -60 kg|\n|  GARRIGOS Francisco|  Male|Bronze Medal|       3|           Spain|        Judo|          Men -60 kg|\n|     TSUNODA Natsumi|Female|  Gold Medal|       1|           Japan|        Judo|        Women -48 kg|\n|BAVUUDORJ Baasankhuu|Female|Silver Medal|       2|        Mongolia|        Judo|        Women -48 kg|\n|      BOUKLI Shirine|Female|Bronze Medal|       3|          France|        Judo|        Women -48 kg|\n|      BABULFATH Tara|Female|Bronze Medal|       3|          Sweden|        Judo|        Women -48 kg|\n+--------------------+------+------------+--------+----------------+------------+--------------------+\nonly showing top 20 rows\n\n"
     ]
    }
   ],
   "source": [
    "df_medalists = medalists.select('name','gender','medal_type','medal_code','country','discipline','event')\n",
    "df_medalists = df_medalists.withColumnRenamed('name','athlete')\n",
    "df_medalists = df_medalists.withColumnRenamed('medal_type','medal')\n",
    "df_medalists = df_medalists.withColumnRenamed('medal_code','position')\n",
    "df_medalists = df_medalists.withColumnRenamed('discipline','sport')\n",
    "df_medalists.show()"
   ]
  },
  {
   "cell_type": "code",
   "execution_count": 0,
   "metadata": {
    "application/vnd.databricks.v1+cell": {
     "cellMetadata": {
      "byteLimit": 2048000,
      "rowLimit": 10000
     },
     "inputWidgets": {},
     "nuid": "20f58ffd-43fa-47d4-974c-7694ab245bf3",
     "showTitle": false,
     "title": ""
    }
   },
   "outputs": [
    {
     "output_type": "stream",
     "name": "stdout",
     "output_type": "stream",
     "text": [
      "+-------------+----------+-----------+\n|      country|     medal|total_count|\n+-------------+----------+-----------+\n|United States|Gold Medal|        131|\n|  Netherlands|Gold Medal|         66|\n|        China|Gold Medal|         60|\n|       France|Gold Medal|         53|\n|        Spain|Gold Medal|         40|\n|Great Britain|Gold Medal|         40|\n|    Australia|Gold Medal|         33|\n|        Italy|Gold Medal|         31|\n|        Japan|Gold Medal|         27|\n|  New Zealand|Gold Medal|         24|\n|      Germany|Gold Medal|         22|\n|        Korea|Gold Medal|         21|\n|       Norway|Gold Medal|         18|\n|      Denmark|Gold Medal|         17|\n|       Serbia|Gold Medal|         16|\n|       Canada|Gold Medal|         14|\n|      Romania|Gold Medal|         12|\n|      Hungary|Gold Medal|          9|\n|   Uzbekistan|Gold Medal|          8|\n|         NULL|Gold Medal|          6|\n+-------------+----------+-----------+\nonly showing top 20 rows\n\n"
     ]
    }
   ],
   "source": [
    "## Identify country with most Gold medals\n",
    "agr_medalists = df_medalists.groupBy('country','medal').agg(count('medal').alias('total_count'))\n",
    "agr_medalists = agr_medalists.where(col('medal')=='Gold Medal').orderBy(col('total_count').desc())\n",
    "\n",
    "agr_medalists.show()                            "
   ]
  },
  {
   "cell_type": "code",
   "execution_count": 0,
   "metadata": {
    "application/vnd.databricks.v1+cell": {
     "cellMetadata": {
      "byteLimit": 2048000,
      "rowLimit": 10000
     },
     "inputWidgets": {},
     "nuid": "1ef9bcf6-4566-4bfe-bd0c-3ac4255615ba",
     "showTitle": false,
     "title": ""
    }
   },
   "outputs": [],
   "source": [
    "df_athletes.repartition(1).write.mode(\"overwrite\").option(\"header\",'true').csv(\"/mnt/paris_olympic/transformed-data/athletes\")\n",
    "df_venues.repartition(1).write.mode(\"overwrite\").option(\"header\",'true').csv(\"/mnt/paris_olympic/transformed-data/venues\")\n",
    "df_teams.repartition(1).write.mode(\"overwrite\").option(\"header\",'true').csv(\"/mnt/paris_olympic/transformed-data/teams\")\n",
    "df_medalists.repartition(1).write.mode(\"overwrite\").option(\"header\",'true').csv(\"/mnt/paris_olympic/transformed-data/medalists\")"
   ]
  },
  {
   "cell_type": "code",
   "execution_count": 0,
   "metadata": {
    "application/vnd.databricks.v1+cell": {
     "cellMetadata": {},
     "inputWidgets": {},
     "nuid": "86cc8bc9-3e7a-422d-9ebe-b2ce23bc99c7",
     "showTitle": false,
     "title": ""
    }
   },
   "outputs": [],
   "source": []
  }
 ],
 "metadata": {
  "application/vnd.databricks.v1+notebook": {
   "dashboards": [],
   "environmentMetadata": null,
   "language": "python",
   "notebookMetadata": {
    "mostRecentlyExecutedCommandWithImplicitDF": {
     "commandId": 2297632097127951,
     "dataframes": [
      "_sqldf"
     ]
    },
    "pythonIndentUnit": 4
   },
   "notebookName": "Paris-Olympic-2024-Transformation",
   "widgets": {}
  }
 },
 "nbformat": 4,
 "nbformat_minor": 0
}
